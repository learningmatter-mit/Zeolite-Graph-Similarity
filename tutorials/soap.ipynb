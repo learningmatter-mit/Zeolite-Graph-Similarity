{
 "cells": [
  {
   "cell_type": "markdown",
   "metadata": {},
   "source": [
    "# Tutorial to calculating SOAP distances"
   ]
  },
  {
   "cell_type": "markdown",
   "metadata": {},
   "source": [
    "This tutorial illustrates the D-measure and SOAP distances and the literature search calculated for the article \"Graph Similarity Drives Zeolite Diffusionless Transformations and Intergrowth\". This implementation was made by Daniel Schwalbe-Koda. If you use this code or tutorial, please cite:\n",
    "\n",
    "D. Schwalbe-Koda, Z. Jensen, E. Olivetti, and R. Gómez-Bombarelli. \"Graph similarity drives zeolite diffusionless transformations and intergrowth.\" _Nature Materials_ (2019). Link: https://www.nature.com/articles/s41563-019-0486-1"
   ]
  },
  {
   "cell_type": "markdown",
   "metadata": {},
   "source": [
    "## Imports"
   ]
  },
  {
   "cell_type": "markdown",
   "metadata": {},
   "source": [
    "The calculations of this article were performed by using the [`soaplite` library](https://github.com/SINGROUP/SOAPLite), now part of the [`dscribe` library](https://github.com/SINGROUP/dscribe), by the group of Adam Foster. As we used the SOAPLite library, we will reproduce our steps by employing such library:"
   ]
  },
  {
   "cell_type": "code",
   "execution_count": 1,
   "metadata": {},
   "outputs": [],
   "source": [
    "import numpy as np\n",
    "import soaplite\n",
    "from soaplite import genBasis\n",
    "from ase.io import read"
   ]
  },
  {
   "cell_type": "markdown",
   "metadata": {},
   "source": [
    "The work on SOAP representation and the SOAPLite library has been done by the following works:\n",
    "\n",
    "* A. Bartók, R. Kondor, and G. Csányi. \"On representing chemical environments\". _Physical Review B_ **87**, 184115 (2013).\n",
    "* S. De, A. Bartók, G. Csányi, and M. Ceriotti. \"Comparing molecules and solids across structural and alchemical space\". _Physical Chemistry Chemical Physics_ **18** (20), 13754 (2016).\n",
    "* M. O. J. Jäger _et al_. \"Machine learning hydrogen adsorption on nanoclusters through structural descriptors\". _npj Computational Materials_ **4**, 37 (2018)."
   ]
  },
  {
   "cell_type": "markdown",
   "metadata": {},
   "source": [
    "# Calculating the SOAP distance between two crystals:"
   ]
  },
  {
   "cell_type": "markdown",
   "metadata": {},
   "source": [
    "### Reading the CIF files with ASE"
   ]
  },
  {
   "cell_type": "code",
   "execution_count": 2,
   "metadata": {},
   "outputs": [],
   "source": [
    "GME = read('../data/cif/GME.cif')\n",
    "AFI = read('../data/cif/AFI.cif')"
   ]
  },
  {
   "cell_type": "markdown",
   "metadata": {},
   "source": [
    "### Generating the power spectrum"
   ]
  },
  {
   "cell_type": "markdown",
   "metadata": {},
   "source": [
    "In our example, we are interested in generating the power spectrum of the zeolites we have. For this purpose, let us analyze the case of GME and AFI zeolites, both of which have CIF files provided in this tutorial.\n",
    "\n",
    "We start by generating the basis functions with $r_\\textrm{cut} = 10$ and radial basis size of 8, as explained in detail in the SOAPLite tutorial:"
   ]
  },
  {
   "cell_type": "code",
   "execution_count": 3,
   "metadata": {},
   "outputs": [],
   "source": [
    "myAlphas, myBetas = genBasis.getBasisFunc(10.0, 8) # input: (rCut, NradBas)"
   ]
  },
  {
   "cell_type": "markdown",
   "metadata": {},
   "source": [
    "Now generating the power spectrum for each one of the crystals using the hyperparameters $r_\\textrm{cut} = 10$, radial basis size of 8 and $L_\\textrm{max} = 5$:"
   ]
  },
  {
   "cell_type": "code",
   "execution_count": 4,
   "metadata": {},
   "outputs": [],
   "source": [
    "spectrum_GME = soaplite.get_periodic_soap_structure(GME, myAlphas, myBetas, rCut=10.0, Lmax=5)\n",
    "spectrum_AFI = soaplite.get_periodic_soap_structure(AFI, myAlphas, myBetas, rCut=10.0, Lmax=5)"
   ]
  },
  {
   "cell_type": "markdown",
   "metadata": {},
   "source": [
    "### Average SOAP fingerprint"
   ]
  },
  {
   "cell_type": "markdown",
   "metadata": {},
   "source": [
    "As explained in the methods section of our article, we use the average SOAP fingerprint for the zeolites (Eq. 7 of the paper):"
   ]
  },
  {
   "cell_type": "code",
   "execution_count": 5,
   "metadata": {},
   "outputs": [],
   "source": [
    "p_GME = np.mean(spectrum_GME, axis=0)\n",
    "p_AFI = np.mean(spectrum_AFI, axis=0)"
   ]
  },
  {
   "cell_type": "markdown",
   "metadata": {},
   "source": [
    "The kernel distance between the structures is basically a matter of taking the inner product between the fingerprints and normalizing it (Eq. 9 of the paper):"
   ]
  },
  {
   "cell_type": "code",
   "execution_count": 6,
   "metadata": {},
   "outputs": [],
   "source": [
    "K = np.dot(p_GME, p_AFI) / np.sqrt(np.dot(p_GME, p_GME) * np.dot(p_AFI, p_AFI))"
   ]
  },
  {
   "cell_type": "markdown",
   "metadata": {},
   "source": [
    "Finally, we can calculate the The `SOAP_NORMALIZATION` factor is simply the normalization constant we used in our article to have the maximum SOAP distance between two zeolites equal to 1. The two zeolites with maximum SOAP distance are the pair BCT-RWY."
   ]
  },
  {
   "cell_type": "code",
   "execution_count": 7,
   "metadata": {},
   "outputs": [],
   "source": [
    "SOAP_NORMALIZATION = 0.41541\n",
    "\n",
    "soap_dist = np.sqrt(2 - 2 * K) / SOAP_NORMALIZATION"
   ]
  },
  {
   "cell_type": "markdown",
   "metadata": {},
   "source": [
    "Now, the final SOAP distance between GME and AFI:"
   ]
  },
  {
   "cell_type": "code",
   "execution_count": 8,
   "metadata": {},
   "outputs": [
    {
     "name": "stdout",
     "output_type": "stream",
     "text": [
      "SOAP distance between GME and AFI: 0.1812\n"
     ]
    }
   ],
   "source": [
    "print('SOAP distance between GME and AFI: %.4f' % soap_dist)"
   ]
  },
  {
   "cell_type": "markdown",
   "metadata": {},
   "source": [
    "Which is the value we reported on the paper (up to a numerical error)."
   ]
  }
 ],
 "metadata": {
  "kernelspec": {
   "display_name": "Python [conda env:zeograph]",
   "language": "python",
   "name": "conda-env-zeograph-py"
  },
  "language_info": {
   "codemirror_mode": {
    "name": "ipython",
    "version": 3
   },
   "file_extension": ".py",
   "mimetype": "text/x-python",
   "name": "python",
   "nbconvert_exporter": "python",
   "pygments_lexer": "ipython3",
   "version": "3.7.4"
  }
 },
 "nbformat": 4,
 "nbformat_minor": 2
}
