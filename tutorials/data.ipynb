{
 "cells": [
  {
   "cell_type": "markdown",
   "metadata": {},
   "source": [
    "# Tutorial to the data"
   ]
  },
  {
   "cell_type": "markdown",
   "metadata": {},
   "source": [
    "This tutorial illustrates the D-measure and SOAP distances and the literature search calculated for the article \"Graph Similarity Drives Zeolite Diffusionless Transformations and Intergrowth\". This implementation was made by Daniel Schwalbe-Koda. If you use this code, tutorial or data, please cite:\n",
    "\n",
    "D. Schwalbe-Koda, Z. Jensen, E. Olivetti, and R. Gómez-Bombarelli. \"Graph similarity drives zeolite diffusionless transformations and intergrowth.\" _Nature Materials_ (2019). Link: https://www.nature.com/articles/s41563-019-0486-1.\n",
    "\n",
    "If you use the literature data, please cite, additionally:\n",
    "\n",
    "Z. Jensen et al. \"A Machine Learning Approach to Zeolite Synthesis Enabled by Automatic Literature Data Extraction\". _ACS Central Science_ **5** (5), 892-899 (2019). Link: https://pubs.acs.org/doi/abs/10.1021/acscentsci.9b00193"
   ]
  },
  {
   "cell_type": "markdown",
   "metadata": {},
   "source": [
    "## Imports"
   ]
  },
  {
   "cell_type": "code",
   "execution_count": 1,
   "metadata": {},
   "outputs": [],
   "source": [
    "import pickle\n",
    "import pandas as pd"
   ]
  },
  {
   "cell_type": "markdown",
   "metadata": {},
   "source": [
    "## Loading the D-measure and the SOAP data"
   ]
  },
  {
   "cell_type": "markdown",
   "metadata": {},
   "source": [
    "The data are pickle files saved on the `data/` folder."
   ]
  },
  {
   "cell_type": "code",
   "execution_count": 2,
   "metadata": {},
   "outputs": [],
   "source": [
    "with open('../data/soap.pkl', 'rb') as f:\n",
    "    soap = pickle.load(f)\n",
    "\n",
    "with open('../data/dmeasure.pkl', 'rb') as f:\n",
    "    dmeasure = pickle.load(f)\n",
    "\n",
    "with open('../data/dmeasure_matrices.pkl', 'rb') as f:\n",
    "    d_matrices = pickle.load(f)"
   ]
  },
  {
   "cell_type": "markdown",
   "metadata": {},
   "source": [
    "`soap` and `dmeasure` are dictionaries containing distances between the pairs. Keys for the dictionary are `Zeo1-Zeo2`. To save space, keys such as `Zeo1-Zeo1` and `Zeo2-Zeo1` are omitted. The dictionary is sorted alphabetically, such that `Zeo1` comes before `Zeo2` in the alphabetical order."
   ]
  },
  {
   "cell_type": "markdown",
   "metadata": {},
   "source": [
    "### Example of distances"
   ]
  },
  {
   "cell_type": "markdown",
   "metadata": {},
   "source": [
    "Intergrowth between FAU and EMT zeolites"
   ]
  },
  {
   "cell_type": "code",
   "execution_count": 3,
   "metadata": {},
   "outputs": [
    {
     "name": "stdout",
     "output_type": "stream",
     "text": [
      "soap distance: 0.0494\n",
      "D-measure: 0.2786\n"
     ]
    }
   ],
   "source": [
    "print('soap distance: %.4f' % soap['EMT-FAU'])\n",
    "print('D-measure: %.4f' % dmeasure['EMT-FAU'])"
   ]
  },
  {
   "cell_type": "markdown",
   "metadata": {},
   "source": [
    "### Example of transformation matrices"
   ]
  },
  {
   "cell_type": "code",
   "execution_count": 4,
   "metadata": {},
   "outputs": [],
   "source": [
    "M_A, M_B = d_matrices['EAB-SOD']"
   ]
  },
  {
   "cell_type": "markdown",
   "metadata": {},
   "source": [
    "When comparing the zeolites EAB and SOD, non-identity adjacency matrices minimize the graph distance between the zeolites. For EAB, we recover the identity matrix:"
   ]
  },
  {
   "cell_type": "code",
   "execution_count": 5,
   "metadata": {},
   "outputs": [
    {
     "name": "stdout",
     "output_type": "stream",
     "text": [
      "[[1 0 0]\n",
      " [0 1 0]\n",
      " [0 0 1]]\n"
     ]
    }
   ],
   "source": [
    "print(M_A)"
   ]
  },
  {
   "cell_type": "markdown",
   "metadata": {},
   "source": [
    "In the case of SOD, we convert its cubic symmetry to an hexagonal one by applying the following transformation matrix:"
   ]
  },
  {
   "cell_type": "code",
   "execution_count": 6,
   "metadata": {},
   "outputs": [
    {
     "name": "stdout",
     "output_type": "stream",
     "text": [
      "[[-1 -1  0]\n",
      " [ 0  1 -1]\n",
      " [ 1 -1 -1]]\n"
     ]
    }
   ],
   "source": [
    "print(M_B)"
   ]
  },
  {
   "cell_type": "markdown",
   "metadata": {},
   "source": [
    "then, we can proceed with the calculation of the graph distance between the frameworks as described in the other tutorial."
   ]
  },
  {
   "cell_type": "markdown",
   "metadata": {},
   "source": [
    "## Loading the literature data"
   ]
  },
  {
   "cell_type": "markdown",
   "metadata": {},
   "source": [
    "The literature data is a pandas DataFrame saved on the `data/literature.csv` file."
   ]
  },
  {
   "cell_type": "code",
   "execution_count": 7,
   "metadata": {},
   "outputs": [],
   "source": [
    "literature = pd.read_csv('../data/literature.csv', index_col=0)"
   ]
  },
  {
   "cell_type": "code",
   "execution_count": 8,
   "metadata": {
    "scrolled": true
   },
   "outputs": [
    {
     "data": {
      "text/html": [
       "<div>\n",
       "<style scoped>\n",
       "    .dataframe tbody tr th:only-of-type {\n",
       "        vertical-align: middle;\n",
       "    }\n",
       "\n",
       "    .dataframe tbody tr th {\n",
       "        vertical-align: top;\n",
       "    }\n",
       "\n",
       "    .dataframe thead th {\n",
       "        text-align: right;\n",
       "    }\n",
       "</style>\n",
       "<table border=\"1\" class=\"dataframe\">\n",
       "  <thead>\n",
       "    <tr style=\"text-align: right;\">\n",
       "      <th></th>\n",
       "      <th>doi</th>\n",
       "      <th>Type</th>\n",
       "      <th>Zeolites</th>\n",
       "    </tr>\n",
       "  </thead>\n",
       "  <tbody>\n",
       "    <tr>\n",
       "      <th>0</th>\n",
       "      <td>10.1016/j.cattod.2014.08.018</td>\n",
       "      <td>ador</td>\n",
       "      <td>UTL-OKO</td>\n",
       "    </tr>\n",
       "    <tr>\n",
       "      <th>1</th>\n",
       "      <td>10.1016/j.cattod.2015.09.036</td>\n",
       "      <td>ador</td>\n",
       "      <td>UTL-OKO</td>\n",
       "    </tr>\n",
       "    <tr>\n",
       "      <th>2</th>\n",
       "      <td>10.1038/nmat3455</td>\n",
       "      <td>ador</td>\n",
       "      <td>UTL-OKO</td>\n",
       "    </tr>\n",
       "    <tr>\n",
       "      <th>3</th>\n",
       "      <td>10.1002/anie.201406344</td>\n",
       "      <td>ador</td>\n",
       "      <td>UTL-PCR</td>\n",
       "    </tr>\n",
       "    <tr>\n",
       "      <th>4</th>\n",
       "      <td>10.1002/chem.201402887</td>\n",
       "      <td>ador</td>\n",
       "      <td>UTL-PCR</td>\n",
       "    </tr>\n",
       "    <tr>\n",
       "      <th>5</th>\n",
       "      <td>10.1016/j.cattod.2015.09.033</td>\n",
       "      <td>ador</td>\n",
       "      <td>UTL-PCR</td>\n",
       "    </tr>\n",
       "    <tr>\n",
       "      <th>6</th>\n",
       "      <td>10.1016/j.cattod.2015.09.036</td>\n",
       "      <td>ador</td>\n",
       "      <td>UTL-PCR</td>\n",
       "    </tr>\n",
       "    <tr>\n",
       "      <th>7</th>\n",
       "      <td>10.1021/jacs.7b00386</td>\n",
       "      <td>ador</td>\n",
       "      <td>UTL-PCR</td>\n",
       "    </tr>\n",
       "    <tr>\n",
       "      <th>8</th>\n",
       "      <td>10.1038/nchem.2761</td>\n",
       "      <td>ador</td>\n",
       "      <td>UTL-PCR</td>\n",
       "    </tr>\n",
       "    <tr>\n",
       "      <th>9</th>\n",
       "      <td>10.1016/j.cattod.2015.09.033</td>\n",
       "      <td>ador</td>\n",
       "      <td>UTL-PCS</td>\n",
       "    </tr>\n",
       "    <tr>\n",
       "      <th>10</th>\n",
       "      <td>10.1016/j.cattod.2015.09.036</td>\n",
       "      <td>ador</td>\n",
       "      <td>UTL-PCS</td>\n",
       "    </tr>\n",
       "    <tr>\n",
       "      <th>11</th>\n",
       "      <td>10.1038/nchem.2761</td>\n",
       "      <td>ador</td>\n",
       "      <td>UTL-PCS</td>\n",
       "    </tr>\n",
       "    <tr>\n",
       "      <th>12</th>\n",
       "      <td>10.1246/cl.130996</td>\n",
       "      <td>competing</td>\n",
       "      <td>AEI-MFI</td>\n",
       "    </tr>\n",
       "    <tr>\n",
       "      <th>13</th>\n",
       "      <td>10.1021/cm902569g</td>\n",
       "      <td>competing</td>\n",
       "      <td>AFI-APC</td>\n",
       "    </tr>\n",
       "    <tr>\n",
       "      <th>14</th>\n",
       "      <td>10.1021/acs.chemmater.6b02141</td>\n",
       "      <td>competing</td>\n",
       "      <td>AFI-CHA</td>\n",
       "    </tr>\n",
       "    <tr>\n",
       "      <th>15</th>\n",
       "      <td>10.1246/cl.180112</td>\n",
       "      <td>competing</td>\n",
       "      <td>AFI-STO</td>\n",
       "    </tr>\n",
       "    <tr>\n",
       "      <th>16</th>\n",
       "      <td>10.1021/cm200105f</td>\n",
       "      <td>competing</td>\n",
       "      <td>AFX-BEA</td>\n",
       "    </tr>\n",
       "    <tr>\n",
       "      <th>17</th>\n",
       "      <td>10.1016/j.micromeso.2011.08.003</td>\n",
       "      <td>competing</td>\n",
       "      <td>AFX-CHA</td>\n",
       "    </tr>\n",
       "    <tr>\n",
       "      <th>18</th>\n",
       "      <td>10.1021/cm200105f</td>\n",
       "      <td>competing</td>\n",
       "      <td>AFX-UTL</td>\n",
       "    </tr>\n",
       "    <tr>\n",
       "      <th>19</th>\n",
       "      <td>10.1016/j.cej.2017.02.124</td>\n",
       "      <td>competing</td>\n",
       "      <td>ANA-CAN</td>\n",
       "    </tr>\n",
       "    <tr>\n",
       "      <th>20</th>\n",
       "      <td>10.1021/ja3105939</td>\n",
       "      <td>competing</td>\n",
       "      <td>ANA-CAN</td>\n",
       "    </tr>\n",
       "    <tr>\n",
       "      <th>21</th>\n",
       "      <td>10.1002/chem.201602653</td>\n",
       "      <td>competing</td>\n",
       "      <td>ANA-GIS</td>\n",
       "    </tr>\n",
       "    <tr>\n",
       "      <th>22</th>\n",
       "      <td>10.1016/s0927-6513(96)00098-3</td>\n",
       "      <td>competing</td>\n",
       "      <td>ANA-GIS</td>\n",
       "    </tr>\n",
       "    <tr>\n",
       "      <th>23</th>\n",
       "      <td>10.1021/cm048418+</td>\n",
       "      <td>competing</td>\n",
       "      <td>ANA-GIS</td>\n",
       "    </tr>\n",
       "    <tr>\n",
       "      <th>24</th>\n",
       "      <td>10.1016/j.cej.2017.02.124</td>\n",
       "      <td>competing</td>\n",
       "      <td>ANA-JBW</td>\n",
       "    </tr>\n",
       "    <tr>\n",
       "      <th>25</th>\n",
       "      <td>10.1021/ja3105939</td>\n",
       "      <td>competing</td>\n",
       "      <td>ANA-JBW</td>\n",
       "    </tr>\n",
       "    <tr>\n",
       "      <th>26</th>\n",
       "      <td>10.1021/cm0605163</td>\n",
       "      <td>competing</td>\n",
       "      <td>ANA-MAZ</td>\n",
       "    </tr>\n",
       "    <tr>\n",
       "      <th>27</th>\n",
       "      <td>10.1007/s11244-008-9136-6</td>\n",
       "      <td>competing</td>\n",
       "      <td>ANA-MOR</td>\n",
       "    </tr>\n",
       "    <tr>\n",
       "      <th>28</th>\n",
       "      <td>10.1021/cm048418+</td>\n",
       "      <td>competing</td>\n",
       "      <td>ANA-MOR</td>\n",
       "    </tr>\n",
       "    <tr>\n",
       "      <th>29</th>\n",
       "      <td>10.1016/j.cej.2017.02.124</td>\n",
       "      <td>competing</td>\n",
       "      <td>ANA-SOD</td>\n",
       "    </tr>\n",
       "    <tr>\n",
       "      <th>...</th>\n",
       "      <td>...</td>\n",
       "      <td>...</td>\n",
       "      <td>...</td>\n",
       "    </tr>\n",
       "    <tr>\n",
       "      <th>361</th>\n",
       "      <td>10.1002/adma.200904320</td>\n",
       "      <td>recrystallization</td>\n",
       "      <td>LTA-SOD</td>\n",
       "    </tr>\n",
       "    <tr>\n",
       "      <th>362</th>\n",
       "      <td>10.1016/0022-0248(80)90099-8</td>\n",
       "      <td>recrystallization</td>\n",
       "      <td>LTA-SOD</td>\n",
       "    </tr>\n",
       "    <tr>\n",
       "      <th>363</th>\n",
       "      <td>10.1016/s1387-1811(99)00079-7</td>\n",
       "      <td>recrystallization</td>\n",
       "      <td>LTA-SOD</td>\n",
       "    </tr>\n",
       "    <tr>\n",
       "      <th>364</th>\n",
       "      <td>10.1021/ja3105939</td>\n",
       "      <td>recrystallization</td>\n",
       "      <td>LTA-SOD</td>\n",
       "    </tr>\n",
       "    <tr>\n",
       "      <th>365</th>\n",
       "      <td>10.1016/s0927-6513(97)00083-7</td>\n",
       "      <td>recrystallization</td>\n",
       "      <td>LTL-BRE</td>\n",
       "    </tr>\n",
       "    <tr>\n",
       "      <th>366</th>\n",
       "      <td>10.1021/cm100030x</td>\n",
       "      <td>recrystallization</td>\n",
       "      <td>LTL-CHA</td>\n",
       "    </tr>\n",
       "    <tr>\n",
       "      <th>367</th>\n",
       "      <td>10.1016/s0927-6513(97)00083-7</td>\n",
       "      <td>recrystallization</td>\n",
       "      <td>LTL-EPI</td>\n",
       "    </tr>\n",
       "    <tr>\n",
       "      <th>368</th>\n",
       "      <td>10.1021/cm071648e</td>\n",
       "      <td>recrystallization</td>\n",
       "      <td>LTL-ERI</td>\n",
       "    </tr>\n",
       "    <tr>\n",
       "      <th>369</th>\n",
       "      <td>10.1021/cm100030x</td>\n",
       "      <td>recrystallization</td>\n",
       "      <td>LTL-MOR</td>\n",
       "    </tr>\n",
       "    <tr>\n",
       "      <th>370</th>\n",
       "      <td>10.1021/cm071648e</td>\n",
       "      <td>recrystallization</td>\n",
       "      <td>LTL-OFF</td>\n",
       "    </tr>\n",
       "    <tr>\n",
       "      <th>371</th>\n",
       "      <td>10.1016/s0927-6513(97)00083-7</td>\n",
       "      <td>recrystallization</td>\n",
       "      <td>LTL-PHI</td>\n",
       "    </tr>\n",
       "    <tr>\n",
       "      <th>372</th>\n",
       "      <td>10.1021/cm100030x</td>\n",
       "      <td>recrystallization</td>\n",
       "      <td>LTL-PHI</td>\n",
       "    </tr>\n",
       "    <tr>\n",
       "      <th>373</th>\n",
       "      <td>10.1016/s0927-6513(97)00083-7</td>\n",
       "      <td>recrystallization</td>\n",
       "      <td>LTL-YUG</td>\n",
       "    </tr>\n",
       "    <tr>\n",
       "      <th>374</th>\n",
       "      <td>10.1021/cm0605163</td>\n",
       "      <td>recrystallization</td>\n",
       "      <td>MAZ-EON</td>\n",
       "    </tr>\n",
       "    <tr>\n",
       "      <th>375</th>\n",
       "      <td>10.1016/j.micromeso.2013.07.034</td>\n",
       "      <td>recrystallization</td>\n",
       "      <td>MEL-MFI</td>\n",
       "    </tr>\n",
       "    <tr>\n",
       "      <th>376</th>\n",
       "      <td>10.1039/c3ce40784e</td>\n",
       "      <td>recrystallization</td>\n",
       "      <td>MEL-MFI</td>\n",
       "    </tr>\n",
       "    <tr>\n",
       "      <th>377</th>\n",
       "      <td>10.1021/cm0605163</td>\n",
       "      <td>recrystallization</td>\n",
       "      <td>MOR-ANA</td>\n",
       "    </tr>\n",
       "    <tr>\n",
       "      <th>378</th>\n",
       "      <td>10.1021/cm0605163</td>\n",
       "      <td>recrystallization</td>\n",
       "      <td>MOR-EON</td>\n",
       "    </tr>\n",
       "    <tr>\n",
       "      <th>379</th>\n",
       "      <td>10.1039/c2cy20510f</td>\n",
       "      <td>recrystallization</td>\n",
       "      <td>MOR-ESV</td>\n",
       "    </tr>\n",
       "    <tr>\n",
       "      <th>380</th>\n",
       "      <td>10.1166/jnn.2013.7356</td>\n",
       "      <td>recrystallization</td>\n",
       "      <td>MOR-GIS</td>\n",
       "    </tr>\n",
       "    <tr>\n",
       "      <th>381</th>\n",
       "      <td>10.1021/cm0605163</td>\n",
       "      <td>recrystallization</td>\n",
       "      <td>MOR-MAZ</td>\n",
       "    </tr>\n",
       "    <tr>\n",
       "      <th>382</th>\n",
       "      <td>10.1016/j.jcat.2017.04.031</td>\n",
       "      <td>recrystallization</td>\n",
       "      <td>MWW-BEA</td>\n",
       "    </tr>\n",
       "    <tr>\n",
       "      <th>383</th>\n",
       "      <td>10.1039/c3nj01532g</td>\n",
       "      <td>recrystallization</td>\n",
       "      <td>MWW-FER</td>\n",
       "    </tr>\n",
       "    <tr>\n",
       "      <th>384</th>\n",
       "      <td>10.1016/j.micromeso.2013.11.026</td>\n",
       "      <td>recrystallization</td>\n",
       "      <td>OFF-MAZ</td>\n",
       "    </tr>\n",
       "    <tr>\n",
       "      <th>385</th>\n",
       "      <td>10.1021/cg201138f</td>\n",
       "      <td>recrystallization</td>\n",
       "      <td>PHI-LIT</td>\n",
       "    </tr>\n",
       "    <tr>\n",
       "      <th>386</th>\n",
       "      <td>10.1016/j.micromeso.2009.05.026</td>\n",
       "      <td>recrystallization</td>\n",
       "      <td>PHI-MER</td>\n",
       "    </tr>\n",
       "    <tr>\n",
       "      <th>387</th>\n",
       "      <td>10.1021/acs.iecr.8b03907</td>\n",
       "      <td>recrystallization</td>\n",
       "      <td>RHO-CHA</td>\n",
       "    </tr>\n",
       "    <tr>\n",
       "      <th>388</th>\n",
       "      <td>10.1016/s1387-1811(99)00079-7</td>\n",
       "      <td>recrystallization</td>\n",
       "      <td>SOD-CAN</td>\n",
       "    </tr>\n",
       "    <tr>\n",
       "      <th>389</th>\n",
       "      <td>10.1021/ja3105939</td>\n",
       "      <td>recrystallization</td>\n",
       "      <td>SOD-CAN</td>\n",
       "    </tr>\n",
       "    <tr>\n",
       "      <th>390</th>\n",
       "      <td>10.1016/j.matlet.2018.01.069</td>\n",
       "      <td>recrystallization</td>\n",
       "      <td>TON-GIS</td>\n",
       "    </tr>\n",
       "  </tbody>\n",
       "</table>\n",
       "<p>391 rows × 3 columns</p>\n",
       "</div>"
      ],
      "text/plain": [
       "                                 doi               Type Zeolites\n",
       "0       10.1016/j.cattod.2014.08.018               ador  UTL-OKO\n",
       "1       10.1016/j.cattod.2015.09.036               ador  UTL-OKO\n",
       "2                   10.1038/nmat3455               ador  UTL-OKO\n",
       "3             10.1002/anie.201406344               ador  UTL-PCR\n",
       "4             10.1002/chem.201402887               ador  UTL-PCR\n",
       "5       10.1016/j.cattod.2015.09.033               ador  UTL-PCR\n",
       "6       10.1016/j.cattod.2015.09.036               ador  UTL-PCR\n",
       "7               10.1021/jacs.7b00386               ador  UTL-PCR\n",
       "8                 10.1038/nchem.2761               ador  UTL-PCR\n",
       "9       10.1016/j.cattod.2015.09.033               ador  UTL-PCS\n",
       "10      10.1016/j.cattod.2015.09.036               ador  UTL-PCS\n",
       "11                10.1038/nchem.2761               ador  UTL-PCS\n",
       "12                 10.1246/cl.130996          competing  AEI-MFI\n",
       "13                 10.1021/cm902569g          competing  AFI-APC\n",
       "14     10.1021/acs.chemmater.6b02141          competing  AFI-CHA\n",
       "15                 10.1246/cl.180112          competing  AFI-STO\n",
       "16                 10.1021/cm200105f          competing  AFX-BEA\n",
       "17   10.1016/j.micromeso.2011.08.003          competing  AFX-CHA\n",
       "18                 10.1021/cm200105f          competing  AFX-UTL\n",
       "19         10.1016/j.cej.2017.02.124          competing  ANA-CAN\n",
       "20                 10.1021/ja3105939          competing  ANA-CAN\n",
       "21            10.1002/chem.201602653          competing  ANA-GIS\n",
       "22     10.1016/s0927-6513(96)00098-3          competing  ANA-GIS\n",
       "23                 10.1021/cm048418+          competing  ANA-GIS\n",
       "24         10.1016/j.cej.2017.02.124          competing  ANA-JBW\n",
       "25                 10.1021/ja3105939          competing  ANA-JBW\n",
       "26                 10.1021/cm0605163          competing  ANA-MAZ\n",
       "27         10.1007/s11244-008-9136-6          competing  ANA-MOR\n",
       "28                 10.1021/cm048418+          competing  ANA-MOR\n",
       "29         10.1016/j.cej.2017.02.124          competing  ANA-SOD\n",
       "..                               ...                ...      ...\n",
       "361           10.1002/adma.200904320  recrystallization  LTA-SOD\n",
       "362     10.1016/0022-0248(80)90099-8  recrystallization  LTA-SOD\n",
       "363    10.1016/s1387-1811(99)00079-7  recrystallization  LTA-SOD\n",
       "364                10.1021/ja3105939  recrystallization  LTA-SOD\n",
       "365    10.1016/s0927-6513(97)00083-7  recrystallization  LTL-BRE\n",
       "366                10.1021/cm100030x  recrystallization  LTL-CHA\n",
       "367    10.1016/s0927-6513(97)00083-7  recrystallization  LTL-EPI\n",
       "368                10.1021/cm071648e  recrystallization  LTL-ERI\n",
       "369                10.1021/cm100030x  recrystallization  LTL-MOR\n",
       "370                10.1021/cm071648e  recrystallization  LTL-OFF\n",
       "371    10.1016/s0927-6513(97)00083-7  recrystallization  LTL-PHI\n",
       "372                10.1021/cm100030x  recrystallization  LTL-PHI\n",
       "373    10.1016/s0927-6513(97)00083-7  recrystallization  LTL-YUG\n",
       "374                10.1021/cm0605163  recrystallization  MAZ-EON\n",
       "375  10.1016/j.micromeso.2013.07.034  recrystallization  MEL-MFI\n",
       "376               10.1039/c3ce40784e  recrystallization  MEL-MFI\n",
       "377                10.1021/cm0605163  recrystallization  MOR-ANA\n",
       "378                10.1021/cm0605163  recrystallization  MOR-EON\n",
       "379               10.1039/c2cy20510f  recrystallization  MOR-ESV\n",
       "380            10.1166/jnn.2013.7356  recrystallization  MOR-GIS\n",
       "381                10.1021/cm0605163  recrystallization  MOR-MAZ\n",
       "382       10.1016/j.jcat.2017.04.031  recrystallization  MWW-BEA\n",
       "383               10.1039/c3nj01532g  recrystallization  MWW-FER\n",
       "384  10.1016/j.micromeso.2013.11.026  recrystallization  OFF-MAZ\n",
       "385                10.1021/cg201138f  recrystallization  PHI-LIT\n",
       "386  10.1016/j.micromeso.2009.05.026  recrystallization  PHI-MER\n",
       "387         10.1021/acs.iecr.8b03907  recrystallization  RHO-CHA\n",
       "388    10.1016/s1387-1811(99)00079-7  recrystallization  SOD-CAN\n",
       "389                10.1021/ja3105939  recrystallization  SOD-CAN\n",
       "390     10.1016/j.matlet.2018.01.069  recrystallization  TON-GIS\n",
       "\n",
       "[391 rows x 3 columns]"
      ]
     },
     "execution_count": 8,
     "metadata": {},
     "output_type": "execute_result"
    }
   ],
   "source": [
    "literature.sort_values(by=['Type', 'Zeolites', 'doi']).reset_index(drop=True)"
   ]
  },
  {
   "cell_type": "markdown",
   "metadata": {},
   "source": [
    "## Loading the labels"
   ]
  },
  {
   "cell_type": "markdown",
   "metadata": {},
   "source": [
    "We can load some labels we used in our article for the IZA zeolites. For example, we load the CBUs that each zeolite has, as extracted from the IZA website:"
   ]
  },
  {
   "cell_type": "code",
   "execution_count": 9,
   "metadata": {},
   "outputs": [],
   "source": [
    "cbu = {}\n",
    "with open('../data/iza_labels/cbu.csv', 'r') as f:\n",
    "    for line in f.readlines():\n",
    "        iza, units = line.strip('\\n').split(',')\n",
    "        \n",
    "        cbu[iza] = units.split(' ') if units else []"
   ]
  },
  {
   "cell_type": "code",
   "execution_count": 10,
   "metadata": {},
   "outputs": [
    {
     "data": {
      "text/plain": [
       "['mor', 'fer', 'pcr']"
      ]
     },
     "execution_count": 10,
     "metadata": {},
     "output_type": "execute_result"
    }
   ],
   "source": [
    "cbu['FER']"
   ]
  }
 ],
 "metadata": {
  "kernelspec": {
   "display_name": "Python [conda env:root] *",
   "language": "python",
   "name": "conda-root-py"
  },
  "language_info": {
   "codemirror_mode": {
    "name": "ipython",
    "version": 3
   },
   "file_extension": ".py",
   "mimetype": "text/x-python",
   "name": "python",
   "nbconvert_exporter": "python",
   "pygments_lexer": "ipython3",
   "version": "3.7.3"
  }
 },
 "nbformat": 4,
 "nbformat_minor": 2
}
