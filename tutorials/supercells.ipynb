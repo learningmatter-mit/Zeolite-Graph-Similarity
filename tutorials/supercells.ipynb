{
 "cells": [
  {
   "cell_type": "markdown",
   "metadata": {},
   "source": [
    "# Tutorial to zeolite graph distance"
   ]
  },
  {
   "cell_type": "markdown",
   "metadata": {},
   "source": [
    "This tutorial illustrates the calculation of the graph distance between two zeolite structures with the supercell matching method.\n",
    "\n",
    "This implementation was made by Daniel Schwalbe-Koda. It is compatible with the `pymatgen` and `networkx` packages. If you use this code or tutorial, please cite \n",
    "\n",
    "D. Schwalbe-Koda, Z. Jensen, E. Olivetti, and R. Gómez-Bombarelli. \"Graph similarity drives zeolite diffusionless transformations and intergrowth.\" _Nature Materials_ (2019). Link: https://www.nature.com/articles/s41563-019-0486-1"
   ]
  },
  {
   "cell_type": "markdown",
   "metadata": {},
   "source": [
    "## Imports"
   ]
  },
  {
   "cell_type": "markdown",
   "metadata": {},
   "source": [
    "The tools we will use in this tutorial have been written and packaged by us. They are located in the `../zeograph/` directory. To access them in this tutorial, we can simply add them to the path:"
   ]
  },
  {
   "cell_type": "code",
   "execution_count": 1,
   "metadata": {},
   "outputs": [],
   "source": [
    "import sys\n",
    "sys.path.append('../zeograph')"
   ]
  },
  {
   "cell_type": "markdown",
   "metadata": {},
   "source": [
    "And then import them all:"
   ]
  },
  {
   "cell_type": "code",
   "execution_count": 2,
   "metadata": {},
   "outputs": [],
   "source": [
    "import dmeasure as dm\n",
    "import supercells as sc\n",
    "from structure import Zeolite"
   ]
  },
  {
   "cell_type": "markdown",
   "metadata": {},
   "source": [
    "Some extra tools for visualization:"
   ]
  },
  {
   "cell_type": "code",
   "execution_count": 3,
   "metadata": {},
   "outputs": [],
   "source": [
    "import networkx as nx\n",
    "import matplotlib.pyplot as plt\n",
    "%matplotlib inline"
   ]
  },
  {
   "cell_type": "markdown",
   "metadata": {},
   "source": [
    "## Computing the supercell matching"
   ]
  },
  {
   "cell_type": "markdown",
   "metadata": {},
   "source": [
    "### Loading crystal structures of zeolites"
   ]
  },
  {
   "cell_type": "markdown",
   "metadata": {},
   "source": [
    "In this example, we will work through the lattice matching of the SOD zeolite and the CHA one. CHA has an hexagonal lattice and SOD has a cubic lattice. To compare both through our graph-theoretical analysis, we need a transformation matrix that leads to a better match between both. Let us go over this procedure.\n",
    "\n",
    "First, we load the crystal structures. We uploaded some sample CIF files retrieved from the International Zeolite Association website. Using our tools based on `pymatgen`, we load these files:"
   ]
  },
  {
   "cell_type": "code",
   "execution_count": 4,
   "metadata": {},
   "outputs": [],
   "source": [
    "SOD = Zeolite.from_file('../data/cif/SOD.cif')\n",
    "CHA = Zeolite.from_file('../data/cif/CHA.cif')"
   ]
  },
  {
   "cell_type": "markdown",
   "metadata": {},
   "source": [
    "As mentioned before, SOD has a cubic lattice:"
   ]
  },
  {
   "cell_type": "code",
   "execution_count": 5,
   "metadata": {},
   "outputs": [
    {
     "data": {
      "text/plain": [
       "Lattice\n",
       "    abc : 8.965 8.965 8.965\n",
       " angles : 90.0 90.0 90.0\n",
       " volume : 720.528032125\n",
       "      A : 8.965 0.0 5.489479277178011e-16\n",
       "      B : 1.4416819554351047e-15 8.965 5.489479277178011e-16\n",
       "      C : 0.0 0.0 8.965"
      ]
     },
     "execution_count": 5,
     "metadata": {},
     "output_type": "execute_result"
    }
   ],
   "source": [
    "SOD.lattice"
   ]
  },
  {
   "cell_type": "markdown",
   "metadata": {},
   "source": [
    "and CHA has a hexagonal lattice:"
   ]
  },
  {
   "cell_type": "code",
   "execution_count": 6,
   "metadata": {},
   "outputs": [
    {
     "data": {
      "text/plain": [
       "Lattice\n",
       "    abc : 13.675 13.675 14.767\n",
       " angles : 90.0 90.0 119.99999999999999\n",
       " volume : 2391.5396006059586\n",
       "      A : 13.675 0.0 8.373522489170028e-16\n",
       "      B : -6.837499999999997 11.842897396752202 8.373522489170028e-16\n",
       "      C : 0.0 0.0 14.767"
      ]
     },
     "execution_count": 6,
     "metadata": {},
     "output_type": "execute_result"
    }
   ],
   "source": [
    "CHA.lattice"
   ]
  },
  {
   "cell_type": "markdown",
   "metadata": {},
   "source": [
    "### Generating the transformation matrices"
   ]
  },
  {
   "cell_type": "markdown",
   "metadata": {},
   "source": [
    "As discussed in the Appendix D of our paper, the implementation relies on looking for a best matching among many different transformations. First of all, we generate all transformation matrices up to a cutoff $N_\\textrm{max}$, as in Eqs. D9-D11 of our SI:"
   ]
  },
  {
   "cell_type": "code",
   "execution_count": 7,
   "metadata": {},
   "outputs": [],
   "source": [
    "det2matrices = sc.determinant_dict(Nmax=2)"
   ]
  },
  {
   "cell_type": "markdown",
   "metadata": {},
   "source": [
    "`det2matrices` now have all transformation matrices with strictly positive determinants that can be found by using numbers between -2 and 2. The possible determinants for these matrices are the following:"
   ]
  },
  {
   "cell_type": "code",
   "execution_count": 8,
   "metadata": {},
   "outputs": [
    {
     "name": "stdout",
     "output_type": "stream",
     "text": [
      "dict_keys([1, 2, 3, 4, 5, 6, 7, 8, 9, 10, 11, 12, 13, 14, 15, 16, 17, 18, 19, 20, 21, 22, 24, 26, 27, 28, 30, 32])\n"
     ]
    }
   ],
   "source": [
    "print(det2matrices.keys())"
   ]
  },
  {
   "cell_type": "markdown",
   "metadata": {},
   "source": [
    "We now have to find the determinants of the transformation matrices for each one of the zeolites. The point is to create supercells such that both structures have the same number of Si atoms inside it. This would correspond to Eq. D3 of our SI. However, as the number of determinants is limited to the list above, we have to approximate the scaling, as in Eqs. D7-8 of our SI. This corresponds to find the best possible scaling for transformations given the available determinants:"
   ]
  },
  {
   "cell_type": "code",
   "execution_count": 9,
   "metadata": {},
   "outputs": [],
   "source": [
    "n_CHA, n_SOD = sc.best_scaling(\n",
    "    len(CHA.silicon_atoms),\n",
    "    len(SOD.silicon_atoms),\n",
    "    dets_available=list(det2matrices.keys())\n",
    ")"
   ]
  },
  {
   "cell_type": "markdown",
   "metadata": {},
   "source": [
    "We can now observe what are the best determinants for each system:"
   ]
  },
  {
   "cell_type": "code",
   "execution_count": 10,
   "metadata": {},
   "outputs": [
    {
     "name": "stdout",
     "output_type": "stream",
     "text": [
      "determinant for CHA: 1\n",
      "determinant for SOD: 3\n"
     ]
    }
   ],
   "source": [
    "print('determinant for CHA: %d' % n_CHA)\n",
    "print('determinant for SOD: %d' % n_SOD)"
   ]
  },
  {
   "cell_type": "markdown",
   "metadata": {},
   "source": [
    "### Comparing the crystal structures"
   ]
  },
  {
   "cell_type": "markdown",
   "metadata": {},
   "source": [
    "Now that we have the determinant for each zeolite, we can compare the lattices for a best matching. First, we take all transformation matrices and apply them to both zeolites. Therefore, the variables `A` and `B` are actually $\\hat{M}^{(A)}A$ and $\\hat{M}^{(B)}B$ in the article:"
   ]
  },
  {
   "cell_type": "code",
   "execution_count": 11,
   "metadata": {},
   "outputs": [],
   "source": [
    "A = det2matrices[n_CHA].reshape(-1, 3, 3) @ CHA.lattice.matrix.T\n",
    "B = det2matrices[n_SOD].reshape(-1, 3, 3) @ SOD.lattice.matrix.T"
   ]
  },
  {
   "cell_type": "markdown",
   "metadata": {},
   "source": [
    "Naturally, for each system, we have many possibilities:"
   ]
  },
  {
   "cell_type": "code",
   "execution_count": 12,
   "metadata": {},
   "outputs": [
    {
     "name": "stdout",
     "output_type": "stream",
     "text": [
      "transformations for CHA: 67704\n",
      "transformations for SOD: 63792\n"
     ]
    }
   ],
   "source": [
    "print('transformations for CHA: %d' % len(A))\n",
    "print('transformations for SOD: %d' % len(B))"
   ]
  },
  {
   "cell_type": "markdown",
   "metadata": {},
   "source": [
    "The last step is to compare the lattices. The function `supercell.compare_lattices` already implements tensor operations to make this comparison faster. It correspond to selecting transformation matrices that minimze the discrepancy between the angles of the supercell vectors (Eqs. D12-13). In this example, we will retrieve one of such transformations.\n",
    "\n",
    "The following command can take some time to run (~5 CPU-min)."
   ]
  },
  {
   "cell_type": "code",
   "execution_count": 13,
   "metadata": {},
   "outputs": [],
   "source": [
    "i, j, dist = sc.compare_lattices(A, B)"
   ]
  },
  {
   "cell_type": "markdown",
   "metadata": {},
   "source": [
    "The discrepancy is given by the variable `dist`, and it is zero:"
   ]
  },
  {
   "cell_type": "code",
   "execution_count": 14,
   "metadata": {},
   "outputs": [
    {
     "name": "stdout",
     "output_type": "stream",
     "text": [
      "9.024308780665983e-17\n"
     ]
    }
   ],
   "source": [
    "print(dist)"
   ]
  },
  {
   "cell_type": "markdown",
   "metadata": {},
   "source": [
    "This value says we found a transformation that matches perfectly both structures. Indeed, from crystallography, we know this is possible. `i` and `j` store the indices of the transformation matrices that allow such best matching:"
   ]
  },
  {
   "cell_type": "code",
   "execution_count": 15,
   "metadata": {},
   "outputs": [],
   "source": [
    "M_A = det2matrices[n_CHA][i].reshape(3, 3)\n",
    "M_B = det2matrices[n_SOD][j].reshape(3, 3)"
   ]
  },
  {
   "cell_type": "markdown",
   "metadata": {},
   "source": [
    "The transformation matrices are the following:"
   ]
  },
  {
   "cell_type": "code",
   "execution_count": 16,
   "metadata": {},
   "outputs": [
    {
     "name": "stdout",
     "output_type": "stream",
     "text": [
      "[[-1  0  0]\n",
      " [ 0 -1  0]\n",
      " [ 0  0  1]]\n",
      "[[-1  0  1]\n",
      " [-1  1 -1]\n",
      " [ 0 -1 -1]]\n"
     ]
    }
   ],
   "source": [
    "print(M_A)\n",
    "print(M_B)"
   ]
  },
  {
   "cell_type": "markdown",
   "metadata": {},
   "source": [
    "### Graph distance between supercells"
   ]
  },
  {
   "cell_type": "markdown",
   "metadata": {},
   "source": [
    "Now, everything we have to do is to create the supercells specified by the matrices above and compare their graphs. Creating the supercells:"
   ]
  },
  {
   "cell_type": "code",
   "execution_count": 17,
   "metadata": {},
   "outputs": [],
   "source": [
    "CHA.make_supercell(M_A)\n",
    "SOD.make_supercell(M_B)"
   ]
  },
  {
   "cell_type": "markdown",
   "metadata": {},
   "source": [
    "CHA still has the hexagonal lattice:"
   ]
  },
  {
   "cell_type": "code",
   "execution_count": 18,
   "metadata": {},
   "outputs": [
    {
     "data": {
      "text/plain": [
       "Lattice\n",
       "    abc : 13.675 13.675 14.767\n",
       " angles : 90.00000000000001 90.00000000000001 119.99999999999999\n",
       " volume : 2391.5396006059586\n",
       "      A : -13.675 0.0 -8.373522489170028e-16\n",
       "      B : 6.837499999999997 -11.842897396752202 -8.373522489170028e-16\n",
       "      C : 0.0 0.0 14.767"
      ]
     },
     "execution_count": 18,
     "metadata": {},
     "output_type": "execute_result"
    }
   ],
   "source": [
    "CHA.lattice"
   ]
  },
  {
   "cell_type": "markdown",
   "metadata": {},
   "source": [
    "Now, transformed SOD also has a hexagonal lattice:"
   ]
  },
  {
   "cell_type": "code",
   "execution_count": 19,
   "metadata": {},
   "outputs": [
    {
     "data": {
      "text/plain": [
       "Lattice\n",
       "    abc : 12.678424586674797 15.527835489854983 12.678424586674797\n",
       " angles : 90.0 119.99999999999999 90.00000000000001\n",
       " volume : 2161.5840963749997\n",
       "      A : -8.965 0.0 8.965\n",
       "      B : -8.964999999999998 8.965 -8.965\n",
       "      C : -1.4416819554351047e-15 -8.965 -8.965"
      ]
     },
     "execution_count": 19,
     "metadata": {},
     "output_type": "execute_result"
    }
   ],
   "source": [
    "SOD.lattice"
   ]
  },
  {
   "cell_type": "markdown",
   "metadata": {},
   "source": [
    "We can retrieve their periodic graphs by using the method `get_periodic_graph` of the `Zeolite` class. The `radius` specifies how far (in Å) to look for an oxygen atom during the nearest-neighbors search. This is necessary to create the right graph:"
   ]
  },
  {
   "cell_type": "code",
   "execution_count": 20,
   "metadata": {},
   "outputs": [],
   "source": [
    "G_A = CHA.get_periodic_graph(radius=2)\n",
    "G_B = SOD.get_periodic_graph(radius=2)"
   ]
  },
  {
   "cell_type": "markdown",
   "metadata": {},
   "source": [
    "We can visualize such graphs:"
   ]
  },
  {
   "cell_type": "code",
   "execution_count": 21,
   "metadata": {},
   "outputs": [
    {
     "name": "stderr",
     "output_type": "stream",
     "text": [
      "/home/dskoda/packages/conda/envs/zeograph/lib/python3.7/site-packages/networkx/drawing/nx_pylab.py:579: MatplotlibDeprecationWarning: \n",
      "The iterable function was deprecated in Matplotlib 3.1 and will be removed in 3.3. Use np.iterable instead.\n",
      "  if not cb.iterable(width):\n"
     ]
    },
    {
     "data": {
      "image/png": "[encoded data removed]",
      "text/plain": [
       "<Figure size 720x360 with 2 Axes>"
      ]
     },
     "metadata": {},
     "output_type": "display_data"
    }
   ],
   "source": [
    "fig, ax = plt.subplots(1, 2, figsize=(10, 5))\n",
    "\n",
    "nx_draw_params = {\n",
    "    'node_color': '#993333',\n",
    "    'node_size': 100\n",
    "}\n",
    "\n",
    "nx.draw_kamada_kawai(G_A, ax=ax[0], **nx_draw_params)\n",
    "nx.draw_kamada_kawai(G_B, ax=ax[1], **nx_draw_params)\n",
    "\n",
    "ax[0].set_title('CHA')\n",
    "ax[1].set_title('SOD')\n",
    "\n",
    "plt.show()"
   ]
  },
  {
   "cell_type": "markdown",
   "metadata": {},
   "source": [
    "Finally, we compute the D-measure between both graphs. The `DM_NORMALIZATION` is simply the normalization constant we used in our article to have the maximum distance between two zeolites equal to 1. The two zeolites with maximum supercell-matched graph distance are MRT-OSO.\n",
    "\n",
    "Computing the D-measure for the CHA-SOD pair:"
   ]
  },
  {
   "cell_type": "code",
   "execution_count": 22,
   "metadata": {},
   "outputs": [
    {
     "name": "stdout",
     "output_type": "stream",
     "text": [
      "D-measure for CHA-SOD: 0.0345\n"
     ]
    }
   ],
   "source": [
    "DM_NORMALIZATION = 0.4722216\n",
    "\n",
    "print('D-measure for CHA-SOD: %.4f' % (dm.dmeasure(G_A, G_B) / DM_NORMALIZATION))"
   ]
  },
  {
   "cell_type": "markdown",
   "metadata": {},
   "source": [
    "The D-measure of 0.0345 is exactly the value we provided in the article."
   ]
  }
 ],
 "metadata": {
  "kernelspec": {
   "display_name": "Python [conda env:zeograph]",
   "language": "python",
   "name": "conda-env-zeograph-py"
  },
  "language_info": {
   "codemirror_mode": {
    "name": "ipython",
    "version": 3
   },
   "file_extension": ".py",
   "mimetype": "text/x-python",
   "name": "python",
   "nbconvert_exporter": "python",
   "pygments_lexer": "ipython3",
   "version": "3.7.4"
  }
 },
 "nbformat": 4,
 "nbformat_minor": 2
}
